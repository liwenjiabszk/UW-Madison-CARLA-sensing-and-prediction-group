{
 "cells": [
  {
   "cell_type": "markdown",
   "metadata": {
    "id": "54hDMM6ZYGGQ"
   },
   "source": [
    "# Sensing and Prediction Learning Task 1:\n",
    "## MNIST Image Classification using PyTorch Convolutional Neural Network"
   ]
  },
  {
   "cell_type": "markdown",
   "metadata": {
    "id": "m4jxstKdZ73C"
   },
   "source": [
    "## 0. Import libraries"
   ]
  },
  {
   "cell_type": "code",
   "execution_count": 1,
   "metadata": {
    "_cell_guid": "b1076dfc-b9ad-4769-8c92-a6c4dae69d19",
    "_uuid": "8f2839f25d086af736a60e9eeb907d3b93b6e0e5",
    "colab": {
     "base_uri": "https://localhost:8080/",
     "height": 200
    },
    "execution": {
     "iopub.execute_input": "2022-03-04T21:20:22.520034Z",
     "iopub.status.busy": "2022-03-04T21:20:22.519681Z",
     "iopub.status.idle": "2022-03-04T21:20:22.530795Z",
     "shell.execute_reply": "2022-03-04T21:20:22.529772Z",
     "shell.execute_reply.started": "2022-03-04T21:20:22.519986Z"
    },
    "executionInfo": {
     "elapsed": 8773,
     "status": "error",
     "timestamp": 1646640214475,
     "user": {
      "displayName": "KESHU WU",
      "photoUrl": "https://lh3.googleusercontent.com/a/default-user=s64",
      "userId": "09369725274251055826"
     },
     "user_tz": 360
    },
    "id": "FCIpwfH5YGGS",
    "outputId": "2def3cde-4d3d-45e6-d377-be2a044e3809"
   },
   "outputs": [
    {
     "name": "stdout",
     "output_type": "stream",
     "text": [
      "['test.csv', 'train.csv']\n"
     ]
    }
   ],
   "source": [
    "import numpy as np\n",
    "import pandas as pd\n",
    "\n",
    "import random\n",
    "\n",
    "import torch\n",
    "import torch.nn as nn\n",
    "import torch.nn.functional as F\n",
    "import torch.optim as optim\n",
    "from torch.autograd import Variable\n",
    "from torchvision.utils import make_grid\n",
    "from torch.utils.data import TensorDataset, DataLoader\n",
    "\n",
    "from sklearn.model_selection import train_test_split\n",
    "\n",
    "import matplotlib.pyplot as plt\n",
    "%matplotlib inline\n",
    "\n",
    "import os\n",
    "print(os.listdir(\"./input\"))"
   ]
  },
  {
   "cell_type": "markdown",
   "metadata": {
    "id": "yFY3xGL2YGGT"
   },
   "source": [
    "## 1. Data Acquisition\n",
    "#### Load the training dataset into Pandas DataFrame"
   ]
  },
  {
   "cell_type": "code",
   "execution_count": 2,
   "metadata": {
    "_uuid": "96321e46e2f48d494f7a51336a7514c07e2ee620",
    "execution": {
     "iopub.execute_input": "2022-03-04T21:20:22.533182Z",
     "iopub.status.busy": "2022-03-04T21:20:22.532707Z",
     "iopub.status.idle": "2022-03-04T21:20:28.710399Z",
     "shell.execute_reply": "2022-03-04T21:20:28.709669Z",
     "shell.execute_reply.started": "2022-03-04T21:20:22.533111Z"
    },
    "id": "TjKdMwlyYGGT"
   },
   "outputs": [
    {
     "name": "stdout",
     "output_type": "stream",
     "text": [
      "(42000, 785)\n"
     ]
    },
    {
     "data": {
      "text/html": [
       "<div>\n",
       "<style scoped>\n",
       "    .dataframe tbody tr th:only-of-type {\n",
       "        vertical-align: middle;\n",
       "    }\n",
       "\n",
       "    .dataframe tbody tr th {\n",
       "        vertical-align: top;\n",
       "    }\n",
       "\n",
       "    .dataframe thead th {\n",
       "        text-align: right;\n",
       "    }\n",
       "</style>\n",
       "<table border=\"1\" class=\"dataframe\">\n",
       "  <thead>\n",
       "    <tr style=\"text-align: right;\">\n",
       "      <th></th>\n",
       "      <th>label</th>\n",
       "      <th>pixel0</th>\n",
       "      <th>pixel1</th>\n",
       "      <th>pixel2</th>\n",
       "      <th>pixel3</th>\n",
       "      <th>pixel4</th>\n",
       "      <th>pixel5</th>\n",
       "      <th>pixel6</th>\n",
       "      <th>pixel7</th>\n",
       "      <th>pixel8</th>\n",
       "      <th>...</th>\n",
       "      <th>pixel774</th>\n",
       "      <th>pixel775</th>\n",
       "      <th>pixel776</th>\n",
       "      <th>pixel777</th>\n",
       "      <th>pixel778</th>\n",
       "      <th>pixel779</th>\n",
       "      <th>pixel780</th>\n",
       "      <th>pixel781</th>\n",
       "      <th>pixel782</th>\n",
       "      <th>pixel783</th>\n",
       "    </tr>\n",
       "  </thead>\n",
       "  <tbody>\n",
       "    <tr>\n",
       "      <th>0</th>\n",
       "      <td>1</td>\n",
       "      <td>0</td>\n",
       "      <td>0</td>\n",
       "      <td>0</td>\n",
       "      <td>0</td>\n",
       "      <td>0</td>\n",
       "      <td>0</td>\n",
       "      <td>0</td>\n",
       "      <td>0</td>\n",
       "      <td>0</td>\n",
       "      <td>...</td>\n",
       "      <td>0</td>\n",
       "      <td>0</td>\n",
       "      <td>0</td>\n",
       "      <td>0</td>\n",
       "      <td>0</td>\n",
       "      <td>0</td>\n",
       "      <td>0</td>\n",
       "      <td>0</td>\n",
       "      <td>0</td>\n",
       "      <td>0</td>\n",
       "    </tr>\n",
       "    <tr>\n",
       "      <th>1</th>\n",
       "      <td>0</td>\n",
       "      <td>0</td>\n",
       "      <td>0</td>\n",
       "      <td>0</td>\n",
       "      <td>0</td>\n",
       "      <td>0</td>\n",
       "      <td>0</td>\n",
       "      <td>0</td>\n",
       "      <td>0</td>\n",
       "      <td>0</td>\n",
       "      <td>...</td>\n",
       "      <td>0</td>\n",
       "      <td>0</td>\n",
       "      <td>0</td>\n",
       "      <td>0</td>\n",
       "      <td>0</td>\n",
       "      <td>0</td>\n",
       "      <td>0</td>\n",
       "      <td>0</td>\n",
       "      <td>0</td>\n",
       "      <td>0</td>\n",
       "    </tr>\n",
       "    <tr>\n",
       "      <th>2</th>\n",
       "      <td>1</td>\n",
       "      <td>0</td>\n",
       "      <td>0</td>\n",
       "      <td>0</td>\n",
       "      <td>0</td>\n",
       "      <td>0</td>\n",
       "      <td>0</td>\n",
       "      <td>0</td>\n",
       "      <td>0</td>\n",
       "      <td>0</td>\n",
       "      <td>...</td>\n",
       "      <td>0</td>\n",
       "      <td>0</td>\n",
       "      <td>0</td>\n",
       "      <td>0</td>\n",
       "      <td>0</td>\n",
       "      <td>0</td>\n",
       "      <td>0</td>\n",
       "      <td>0</td>\n",
       "      <td>0</td>\n",
       "      <td>0</td>\n",
       "    </tr>\n",
       "    <tr>\n",
       "      <th>3</th>\n",
       "      <td>4</td>\n",
       "      <td>0</td>\n",
       "      <td>0</td>\n",
       "      <td>0</td>\n",
       "      <td>0</td>\n",
       "      <td>0</td>\n",
       "      <td>0</td>\n",
       "      <td>0</td>\n",
       "      <td>0</td>\n",
       "      <td>0</td>\n",
       "      <td>...</td>\n",
       "      <td>0</td>\n",
       "      <td>0</td>\n",
       "      <td>0</td>\n",
       "      <td>0</td>\n",
       "      <td>0</td>\n",
       "      <td>0</td>\n",
       "      <td>0</td>\n",
       "      <td>0</td>\n",
       "      <td>0</td>\n",
       "      <td>0</td>\n",
       "    </tr>\n",
       "    <tr>\n",
       "      <th>4</th>\n",
       "      <td>0</td>\n",
       "      <td>0</td>\n",
       "      <td>0</td>\n",
       "      <td>0</td>\n",
       "      <td>0</td>\n",
       "      <td>0</td>\n",
       "      <td>0</td>\n",
       "      <td>0</td>\n",
       "      <td>0</td>\n",
       "      <td>0</td>\n",
       "      <td>...</td>\n",
       "      <td>0</td>\n",
       "      <td>0</td>\n",
       "      <td>0</td>\n",
       "      <td>0</td>\n",
       "      <td>0</td>\n",
       "      <td>0</td>\n",
       "      <td>0</td>\n",
       "      <td>0</td>\n",
       "      <td>0</td>\n",
       "      <td>0</td>\n",
       "    </tr>\n",
       "  </tbody>\n",
       "</table>\n",
       "<p>5 rows × 785 columns</p>\n",
       "</div>"
      ],
      "text/plain": [
       "   label  pixel0  pixel1  pixel2  pixel3  pixel4  pixel5  pixel6  pixel7  \\\n",
       "0      1       0       0       0       0       0       0       0       0   \n",
       "1      0       0       0       0       0       0       0       0       0   \n",
       "2      1       0       0       0       0       0       0       0       0   \n",
       "3      4       0       0       0       0       0       0       0       0   \n",
       "4      0       0       0       0       0       0       0       0       0   \n",
       "\n",
       "   pixel8  ...  pixel774  pixel775  pixel776  pixel777  pixel778  pixel779  \\\n",
       "0       0  ...         0         0         0         0         0         0   \n",
       "1       0  ...         0         0         0         0         0         0   \n",
       "2       0  ...         0         0         0         0         0         0   \n",
       "3       0  ...         0         0         0         0         0         0   \n",
       "4       0  ...         0         0         0         0         0         0   \n",
       "\n",
       "   pixel780  pixel781  pixel782  pixel783  \n",
       "0         0         0         0         0  \n",
       "1         0         0         0         0  \n",
       "2         0         0         0         0  \n",
       "3         0         0         0         0  \n",
       "4         0         0         0         0  \n",
       "\n",
       "[5 rows x 785 columns]"
      ]
     },
     "execution_count": 2,
     "metadata": {},
     "output_type": "execute_result"
    }
   ],
   "source": [
    "train = pd.read_csv('./input/train.csv')\n",
    "test = pd.read_csv('./input/test.csv')\n",
    "\n",
    "\n",
    "print(train.shape)\n",
    "train.head()"
   ]
  },
  {
   "cell_type": "code",
   "execution_count": 3,
   "metadata": {
    "execution": {
     "iopub.execute_input": "2022-03-04T21:20:28.711656Z",
     "iopub.status.busy": "2022-03-04T21:20:28.711393Z",
     "iopub.status.idle": "2022-03-04T21:20:28.842431Z",
     "shell.execute_reply": "2022-03-04T21:20:28.841406Z",
     "shell.execute_reply.started": "2022-03-04T21:20:28.711588Z"
    },
    "id": "Rbxtnnt7YGGT"
   },
   "outputs": [
    {
     "name": "stdout",
     "output_type": "stream",
     "text": [
      "(28000, 784)\n"
     ]
    },
    {
     "data": {
      "text/html": [
       "<div>\n",
       "<style scoped>\n",
       "    .dataframe tbody tr th:only-of-type {\n",
       "        vertical-align: middle;\n",
       "    }\n",
       "\n",
       "    .dataframe tbody tr th {\n",
       "        vertical-align: top;\n",
       "    }\n",
       "\n",
       "    .dataframe thead th {\n",
       "        text-align: right;\n",
       "    }\n",
       "</style>\n",
       "<table border=\"1\" class=\"dataframe\">\n",
       "  <thead>\n",
       "    <tr style=\"text-align: right;\">\n",
       "      <th></th>\n",
       "      <th>pixel0</th>\n",
       "      <th>pixel1</th>\n",
       "      <th>pixel2</th>\n",
       "      <th>pixel3</th>\n",
       "      <th>pixel4</th>\n",
       "      <th>pixel5</th>\n",
       "      <th>pixel6</th>\n",
       "      <th>pixel7</th>\n",
       "      <th>pixel8</th>\n",
       "      <th>pixel9</th>\n",
       "      <th>...</th>\n",
       "      <th>pixel774</th>\n",
       "      <th>pixel775</th>\n",
       "      <th>pixel776</th>\n",
       "      <th>pixel777</th>\n",
       "      <th>pixel778</th>\n",
       "      <th>pixel779</th>\n",
       "      <th>pixel780</th>\n",
       "      <th>pixel781</th>\n",
       "      <th>pixel782</th>\n",
       "      <th>pixel783</th>\n",
       "    </tr>\n",
       "  </thead>\n",
       "  <tbody>\n",
       "    <tr>\n",
       "      <th>0</th>\n",
       "      <td>0</td>\n",
       "      <td>0</td>\n",
       "      <td>0</td>\n",
       "      <td>0</td>\n",
       "      <td>0</td>\n",
       "      <td>0</td>\n",
       "      <td>0</td>\n",
       "      <td>0</td>\n",
       "      <td>0</td>\n",
       "      <td>0</td>\n",
       "      <td>...</td>\n",
       "      <td>0</td>\n",
       "      <td>0</td>\n",
       "      <td>0</td>\n",
       "      <td>0</td>\n",
       "      <td>0</td>\n",
       "      <td>0</td>\n",
       "      <td>0</td>\n",
       "      <td>0</td>\n",
       "      <td>0</td>\n",
       "      <td>0</td>\n",
       "    </tr>\n",
       "    <tr>\n",
       "      <th>1</th>\n",
       "      <td>0</td>\n",
       "      <td>0</td>\n",
       "      <td>0</td>\n",
       "      <td>0</td>\n",
       "      <td>0</td>\n",
       "      <td>0</td>\n",
       "      <td>0</td>\n",
       "      <td>0</td>\n",
       "      <td>0</td>\n",
       "      <td>0</td>\n",
       "      <td>...</td>\n",
       "      <td>0</td>\n",
       "      <td>0</td>\n",
       "      <td>0</td>\n",
       "      <td>0</td>\n",
       "      <td>0</td>\n",
       "      <td>0</td>\n",
       "      <td>0</td>\n",
       "      <td>0</td>\n",
       "      <td>0</td>\n",
       "      <td>0</td>\n",
       "    </tr>\n",
       "    <tr>\n",
       "      <th>2</th>\n",
       "      <td>0</td>\n",
       "      <td>0</td>\n",
       "      <td>0</td>\n",
       "      <td>0</td>\n",
       "      <td>0</td>\n",
       "      <td>0</td>\n",
       "      <td>0</td>\n",
       "      <td>0</td>\n",
       "      <td>0</td>\n",
       "      <td>0</td>\n",
       "      <td>...</td>\n",
       "      <td>0</td>\n",
       "      <td>0</td>\n",
       "      <td>0</td>\n",
       "      <td>0</td>\n",
       "      <td>0</td>\n",
       "      <td>0</td>\n",
       "      <td>0</td>\n",
       "      <td>0</td>\n",
       "      <td>0</td>\n",
       "      <td>0</td>\n",
       "    </tr>\n",
       "    <tr>\n",
       "      <th>3</th>\n",
       "      <td>0</td>\n",
       "      <td>0</td>\n",
       "      <td>0</td>\n",
       "      <td>0</td>\n",
       "      <td>0</td>\n",
       "      <td>0</td>\n",
       "      <td>0</td>\n",
       "      <td>0</td>\n",
       "      <td>0</td>\n",
       "      <td>0</td>\n",
       "      <td>...</td>\n",
       "      <td>0</td>\n",
       "      <td>0</td>\n",
       "      <td>0</td>\n",
       "      <td>0</td>\n",
       "      <td>0</td>\n",
       "      <td>0</td>\n",
       "      <td>0</td>\n",
       "      <td>0</td>\n",
       "      <td>0</td>\n",
       "      <td>0</td>\n",
       "    </tr>\n",
       "    <tr>\n",
       "      <th>4</th>\n",
       "      <td>0</td>\n",
       "      <td>0</td>\n",
       "      <td>0</td>\n",
       "      <td>0</td>\n",
       "      <td>0</td>\n",
       "      <td>0</td>\n",
       "      <td>0</td>\n",
       "      <td>0</td>\n",
       "      <td>0</td>\n",
       "      <td>0</td>\n",
       "      <td>...</td>\n",
       "      <td>0</td>\n",
       "      <td>0</td>\n",
       "      <td>0</td>\n",
       "      <td>0</td>\n",
       "      <td>0</td>\n",
       "      <td>0</td>\n",
       "      <td>0</td>\n",
       "      <td>0</td>\n",
       "      <td>0</td>\n",
       "      <td>0</td>\n",
       "    </tr>\n",
       "  </tbody>\n",
       "</table>\n",
       "<p>5 rows × 784 columns</p>\n",
       "</div>"
      ],
      "text/plain": [
       "   pixel0  pixel1  pixel2  pixel3  pixel4  pixel5  pixel6  pixel7  pixel8  \\\n",
       "0       0       0       0       0       0       0       0       0       0   \n",
       "1       0       0       0       0       0       0       0       0       0   \n",
       "2       0       0       0       0       0       0       0       0       0   \n",
       "3       0       0       0       0       0       0       0       0       0   \n",
       "4       0       0       0       0       0       0       0       0       0   \n",
       "\n",
       "   pixel9  ...  pixel774  pixel775  pixel776  pixel777  pixel778  pixel779  \\\n",
       "0       0  ...         0         0         0         0         0         0   \n",
       "1       0  ...         0         0         0         0         0         0   \n",
       "2       0  ...         0         0         0         0         0         0   \n",
       "3       0  ...         0         0         0         0         0         0   \n",
       "4       0  ...         0         0         0         0         0         0   \n",
       "\n",
       "   pixel780  pixel781  pixel782  pixel783  \n",
       "0         0         0         0         0  \n",
       "1         0         0         0         0  \n",
       "2         0         0         0         0  \n",
       "3         0         0         0         0  \n",
       "4         0         0         0         0  \n",
       "\n",
       "[5 rows x 784 columns]"
      ]
     },
     "execution_count": 3,
     "metadata": {},
     "output_type": "execute_result"
    }
   ],
   "source": [
    "print(test.shape)\n",
    "test.head()"
   ]
  },
  {
   "cell_type": "markdown",
   "metadata": {
    "id": "eFdqcxXHYGGU"
   },
   "source": [
    "#### Split the training dataset to features and labels"
   ]
  },
  {
   "cell_type": "code",
   "execution_count": 4,
   "metadata": {
    "execution": {
     "iopub.execute_input": "2022-03-04T21:20:28.844335Z",
     "iopub.status.busy": "2022-03-04T21:20:28.844069Z",
     "iopub.status.idle": "2022-03-04T21:20:28.850219Z",
     "shell.execute_reply": "2022-03-04T21:20:28.849515Z",
     "shell.execute_reply.started": "2022-03-04T21:20:28.844286Z"
    },
    "id": "UDjKjFCIYGGU"
   },
   "outputs": [
    {
     "name": "stdout",
     "output_type": "stream",
     "text": [
      "(42000, 784) (42000,)\n"
     ]
    }
   ],
   "source": [
    "x_train_df = train.iloc[:,1:]\n",
    "y_train_df = train.iloc[:,0]\n",
    "\n",
    "print(x_train_df.shape, y_train_df.shape)"
   ]
  },
  {
   "cell_type": "markdown",
   "metadata": {
    "id": "JH4jPBmGYGGV"
   },
   "source": [
    "#### Convert the data to numeric arrays and normalize the features"
   ]
  },
  {
   "cell_type": "code",
   "execution_count": 5,
   "metadata": {
    "execution": {
     "iopub.execute_input": "2022-03-04T21:20:28.851348Z",
     "iopub.status.busy": "2022-03-04T21:20:28.851084Z",
     "iopub.status.idle": "2022-03-04T21:20:29.241783Z",
     "shell.execute_reply": "2022-03-04T21:20:29.240600Z",
     "shell.execute_reply.started": "2022-03-04T21:20:28.851308Z"
    },
    "id": "6VhL6a-KYGGV"
   },
   "outputs": [],
   "source": [
    "x_train = x_train_df.values/255.\n",
    "y_train = y_train_df.values\n",
    "\n",
    "x_test = test.values/255"
   ]
  },
  {
   "cell_type": "markdown",
   "metadata": {
    "id": "QUEezy5_YGGW"
   },
   "source": [
    "#### Reshape the test and training dataset to (28,28) image arrays"
   ]
  },
  {
   "cell_type": "code",
   "execution_count": 6,
   "metadata": {
    "execution": {
     "iopub.execute_input": "2022-03-04T21:20:29.243385Z",
     "iopub.status.busy": "2022-03-04T21:20:29.243102Z",
     "iopub.status.idle": "2022-03-04T21:20:29.249920Z",
     "shell.execute_reply": "2022-03-04T21:20:29.249138Z",
     "shell.execute_reply.started": "2022-03-04T21:20:29.243333Z"
    },
    "id": "y0Hmpq9PYGGW"
   },
   "outputs": [
    {
     "data": {
      "text/plain": [
       "((42000, 1, 28, 28), (28000, 1, 28, 28))"
      ]
     },
     "execution_count": 6,
     "metadata": {},
     "output_type": "execute_result"
    }
   ],
   "source": [
    "x_train = np.reshape(x_train, (-1, 1, 28,28))\n",
    "x_test = np.reshape(x_test, (-1, 1, 28,28))\n",
    "\n",
    "\n",
    "x_train.shape, x_test.shape"
   ]
  },
  {
   "cell_type": "markdown",
   "metadata": {
    "id": "TRJYvK5DYGGW"
   },
   "source": [
    "#### Split the training dataset into training and validation datasets, and making sure that you understand what training datasets are and validation dataset and why we use validation datasets?"
   ]
  },
  {
   "cell_type": "code",
   "execution_count": 9,
   "metadata": {
    "execution": {
     "iopub.execute_input": "2022-03-04T21:20:29.251191Z",
     "iopub.status.busy": "2022-03-04T21:20:29.250932Z",
     "iopub.status.idle": "2022-03-04T21:20:29.928768Z",
     "shell.execute_reply": "2022-03-04T21:20:29.928012Z",
     "shell.execute_reply.started": "2022-03-04T21:20:29.251143Z"
    },
    "id": "vQ2FMk69YGGX"
   },
   "outputs": [
    {
     "data": {
      "text/plain": [
       "((25200, 1, 28, 28), (16800, 1, 28, 28), (25200,), (16800,))"
      ]
     },
     "execution_count": 9,
     "metadata": {},
     "output_type": "execute_result"
    }
   ],
   "source": [
    "# TODO: split the dataset\n",
    "# This is to ensure reproducibility\n",
    "# hints: use train_test_split() from sklearn.model_selection\n",
    "random_seed = 234\n",
    "x_train, x_val, y_train, y_val = train_test_split(x_train, y_train, test_size=0.4, random_state=random_seed)\n",
    "\n",
    "\n",
    "x_train.shape, x_val.shape, y_train.shape, y_val.shape"
   ]
  },
  {
   "cell_type": "markdown",
   "metadata": {
    "id": "lNCGIDauYGGX"
   },
   "source": [
    "#### Helper function to display an array of images"
   ]
  },
  {
   "cell_type": "code",
   "execution_count": null,
   "metadata": {
    "_uuid": "a6a55b1c97cfcd933c5f6fd7d26fc4d46f6754e1",
    "execution": {
     "iopub.execute_input": "2022-03-04T21:20:29.930336Z",
     "iopub.status.busy": "2022-03-04T21:20:29.930072Z",
     "iopub.status.idle": "2022-03-04T21:20:31.365412Z",
     "shell.execute_reply": "2022-03-04T21:20:31.363555Z",
     "shell.execute_reply.started": "2022-03-04T21:20:29.930286Z"
    },
    "id": "k-vkXlT2YGGX"
   },
   "outputs": [],
   "source": [
    "def display(rows, columns, images, values=[], predictions=[]):\n",
    "    fig = plt.figure(figsize=(9, 11))\n",
    "\n",
    "    ax = []\n",
    "\n",
    "    for i in range( columns*rows ):\n",
    "        img = images[i]\n",
    "        ax.append(fig.add_subplot(rows, columns, i+1))\n",
    "        \n",
    "        title = \"\"\n",
    "        \n",
    "        if(len(values) == 0):\n",
    "            title = \"Pred:\" + str(predictions[i])\n",
    "        elif(len(predictions) == 0):\n",
    "            title = \"Value:\" + str(values[i])\n",
    "        elif(len(values) != 0 and len(predictions) != 0):\n",
    "            title = \"Value:\" + str(values[i]) + \"\\nPred:\" + str(predictions[i])\n",
    "        \n",
    "        ax[-1].set_title(title)  # set title\n",
    "        plt.imshow(img)\n",
    "\n",
    "    plt.show()\n",
    "    \n",
    "idx = np.random.randint(1, 1000, size=9)\n",
    "\n",
    "images = x_train[idx,:]\n",
    "images = images[:,0]\n",
    "\n",
    "values = y_train[idx]\n",
    "\n",
    "display(rows=3, columns=3, images=images, values=values, predictions=[])"
   ]
  },
  {
   "cell_type": "markdown",
   "metadata": {
    "id": "ULX7_zwYbu0v"
   },
   "source": [
    "#### Using the GPU"
   ]
  },
  {
   "cell_type": "code",
   "execution_count": null,
   "metadata": {
    "id": "zrdSdN0qbttf"
   },
   "outputs": [],
   "source": [
    "device = torch.device(\"cuda:0\" if torch.cuda.is_available() else \"cpu\")\n",
    "\n",
    "print(device)"
   ]
  },
  {
   "cell_type": "markdown",
   "metadata": {
    "id": "IA-QsYPcYGGX"
   },
   "source": [
    "## 2. Define the Convolutional Neural Network Model\n",
    "#### This link will help you to build the model: https://pytorch.org/tutorials/beginner/blitz/neural_networks_tutorial.html#sphx-glr-beginner-blitz-neural-networks-tutorial-py"
   ]
  },
  {
   "cell_type": "code",
   "execution_count": null,
   "metadata": {
    "_uuid": "f67aaff3ac37d9f04495dff3fa4a332ef3c70c68",
    "execution": {
     "iopub.execute_input": "2022-03-04T21:20:31.376936Z",
     "iopub.status.busy": "2022-03-04T21:20:31.376378Z",
     "iopub.status.idle": "2022-03-04T21:20:31.422383Z",
     "shell.execute_reply": "2022-03-04T21:20:31.421740Z",
     "shell.execute_reply.started": "2022-03-04T21:20:31.376893Z"
    },
    "id": "UYU04CliYGGY"
   },
   "outputs": [],
   "source": [
    "\"\"\"\n",
    "  In this part, you will design a simple CNN model along with your own \n",
    "  convolutional network for a more realistic dataset\n",
    "\"\"\"\n",
    "# TODO: define the layers and the forward function\n",
    "class CNN(nn.Module):\n",
    "    def __init__(self):\n",
    "      self.conv1 = torch.nn.Sequential(\n",
    "          torch.nn.Conv2d(in_channels=1,\n",
    "                          out_channels=16,\n",
    "                          kernel_size=3,\n",
    "                          stride=2,\n",
    "                          padding=1),\n",
    "          torch.nn.BatchNorm2d(16),\n",
    "          torch.nn.ReLU()\n",
    "      )\n",
    "      self.conv2 = torch.nn.Sequential(\n",
    "          torch.nn.Conv2d(16,32,3,2,1),\n",
    "          torch.nn.BatchNorm2d(32),\n",
    "          torch.nn.ReLU()\n",
    "      )\n",
    "      self.conv3 = torch.nn.Sequential(\n",
    "          torch.nn.Conv2d(32,64,3,2,1),\n",
    "          torch.nn.BatchNorm2d(64),\n",
    "          torch.nn.ReLU()\n",
    "      )\n",
    "      self.conv4 = torch.nn.Sequential(\n",
    "          torch.nn.Conv2d(64,64,2,2,0),\n",
    "          torch.nn.BatchNorm2d(64),\n",
    "          torch.nn.ReLU()\n",
    "      )\n",
    "      self.mlp1 = torch.nn.Linear(2*2*64,100)\n",
    "      self.mlp2 = torch.nn.Linear(100,10)\n",
    "    def forward(self, x):\n",
    "        x = self.conv1(x)\n",
    "        x = self.conv2(x)\n",
    "        x = self.conv3(x)\n",
    "        x = self.conv4(x)\n",
    "        x = self.mlp1(x.view(x.size(0),-1))\n",
    "        x = self.mlp2(x)\n",
    "        return x        \n",
    "    \n",
    "net = CNN()\n",
    "\n",
    "net.to(device)"
   ]
  },
  {
   "cell_type": "markdown",
   "metadata": {
    "id": "LOWlmddRYGGY"
   },
   "source": [
    "#### Define the optimizer and loss function"
   ]
  },
  {
   "cell_type": "code",
   "execution_count": null,
   "metadata": {
    "_uuid": "60be3e0bcfe295ee1d12638d02da59d8708af539",
    "execution": {
     "iopub.execute_input": "2022-03-04T21:20:31.423859Z",
     "iopub.status.busy": "2022-03-04T21:20:31.423339Z",
     "iopub.status.idle": "2022-03-04T21:20:31.428220Z",
     "shell.execute_reply": "2022-03-04T21:20:31.427181Z",
     "shell.execute_reply.started": "2022-03-04T21:20:31.423792Z"
    },
    "id": "Ucc6djV0YGGY"
   },
   "outputs": [],
   "source": [
    "\"\"\"\n",
    "  Define the optimizer, you can check the documentation to define optimizer and \n",
    "  criterion and try to understand why we use optimizer\n",
    "\"\"\"\n",
    "\n",
    "# TODO: define the loss finction and the optimizer\n",
    "# we can use nn.CrossEntropyLoss() as our criterion and optim.SGD() as optimizer\n",
    "\n",
    "criterion = nn.CrossEntropyLoss()\n",
    "optimizer = optim.SGD(net.parameters(), lr=0.001, momentum=0.9)\n"
   ]
  },
  {
   "cell_type": "markdown",
   "metadata": {
    "id": "-mi3JKbMYGGY"
   },
   "source": [
    "#### Define out tensors and dataloader"
   ]
  },
  {
   "cell_type": "code",
   "execution_count": null,
   "metadata": {
    "execution": {
     "iopub.execute_input": "2022-03-04T21:20:31.430412Z",
     "iopub.status.busy": "2022-03-04T21:20:31.429860Z",
     "iopub.status.idle": "2022-03-04T21:20:31.584761Z",
     "shell.execute_reply": "2022-03-04T21:20:31.583938Z",
     "shell.execute_reply.started": "2022-03-04T21:20:31.430111Z"
    },
    "id": "gZGiMBdOYGGY"
   },
   "outputs": [],
   "source": [
    "a = torch.from_numpy(x_train).type(torch.FloatTensor)\n",
    "b = torch.from_numpy(y_train).type(torch.LongTensor)\n",
    "\n",
    "train = torch.utils.data.TensorDataset(a,b)\n",
    "\n",
    "train_loader = torch.utils.data.DataLoader(train, batch_size = 32, shuffle = False)"
   ]
  },
  {
   "cell_type": "markdown",
   "metadata": {
    "id": "7ikp2xbgYGGY"
   },
   "source": [
    "## 3. Model Training and Validation\n",
    "#### Train for 100 epoch: Write the training procedures\n",
    "#### This link will help you to build the training procedures: https://pytorch.org/tutorials/beginner/blitz/cifar10_tutorial.html#sphx-glr-beginner-blitz-cifar10-tutorial-py"
   ]
  },
  {
   "cell_type": "code",
   "execution_count": null,
   "metadata": {
    "_uuid": "0324b3d74183ea47d3a02894cf8b59beea144a33",
    "execution": {
     "iopub.execute_input": "2022-03-04T21:20:31.586322Z",
     "iopub.status.busy": "2022-03-04T21:20:31.585924Z",
     "iopub.status.idle": "2022-03-04T21:21:11.077555Z",
     "shell.execute_reply": "2022-03-04T21:21:11.075584Z",
     "shell.execute_reply.started": "2022-03-04T21:20:31.586116Z"
    },
    "id": "YXLOUNjmYGGZ"
   },
   "outputs": [],
   "source": [
    "%%time\n",
    "\n",
    "#Seed\n",
    "torch.manual_seed(1234)\n",
    "\n",
    "for epoch in range(10):\n",
    "    running_loss = 0.0\n",
    "    for i, data in enumerate(train_loader, 0):\n",
    "        inputs, labels = data\n",
    "        inputs, labels = inputs.to(device), labels.to(device)\n",
    "        \n",
    "        # TODO: write the training procedures\n",
    "\n",
    "        optimizer.zero_grad()\n",
    "\n",
    "        outputs = net(inputs)\n",
    "        loss = criterion(outputs, labels)\n",
    "        loss.backward()\n",
    "        optimizer.step()\n",
    "\n",
    "        # print statistics\n",
    "        running_loss += loss.item()\n",
    "        if i % 500 == 499:    # print every 500 mini-batches\n",
    "            print('[%d, %5d] loss: %.3f' % (epoch + 1, i+1, loss.item()))\n",
    "#             print('[%d, %5d] loss: %.3f' % (epoch + 1, i, running_loss / 500))\n",
    "#             running_loss = 0.0\n",
    "\n",
    "print('Finished Training')\n"
   ]
  },
  {
   "cell_type": "markdown",
   "metadata": {
    "id": "oGfIYPrNYGGZ"
   },
   "source": [
    "#### Try the model on the validation dataset"
   ]
  },
  {
   "cell_type": "code",
   "execution_count": null,
   "metadata": {
    "_uuid": "acf4265693afdc88c1e7d85f5173f5ff332de805",
    "execution": {
     "iopub.execute_input": "2022-03-04T21:21:11.079316Z",
     "iopub.status.busy": "2022-03-04T21:21:11.078898Z",
     "iopub.status.idle": "2022-03-04T21:21:13.501676Z",
     "shell.execute_reply": "2022-03-04T21:21:13.500371Z",
     "shell.execute_reply.started": "2022-03-04T21:21:11.079125Z"
    },
    "id": "YQsRwM43YGGZ"
   },
   "outputs": [],
   "source": [
    "# Validate trained model\n",
    "x = torch.from_numpy(x_val).type(torch.FloatTensor)\n",
    "y = torch.from_numpy(y_val).type(torch.LongTensor)\n",
    "\n",
    "x, y = x.to(device), y.to(device)\n",
    "\n",
    "val = net(x)\n",
    "\n",
    "_, predicted = torch.max(val.data, 1)\n",
    "\n",
    "# Get accuration\n",
    "print('Accuracy is %d %%' % (100 * torch.sum(y==predicted) / len(y_val)))"
   ]
  },
  {
   "cell_type": "markdown",
   "metadata": {
    "id": "jA1sid34YGGZ"
   },
   "source": [
    "#### Lets display a sample of the predictions on the validation dataset"
   ]
  },
  {
   "cell_type": "code",
   "execution_count": null,
   "metadata": {
    "execution": {
     "iopub.execute_input": "2022-03-04T21:21:13.503183Z",
     "iopub.status.busy": "2022-03-04T21:21:13.502910Z",
     "iopub.status.idle": "2022-03-04T21:21:14.873231Z",
     "shell.execute_reply": "2022-03-04T21:21:14.872241Z",
     "shell.execute_reply.started": "2022-03-04T21:21:13.503127Z"
    },
    "id": "LI5kyKY6YGGZ"
   },
   "outputs": [],
   "source": [
    "# Get random data from the valication dataset and the predicted values\n",
    "idx = np.random.randint(1, 1000, size=9)\n",
    "\n",
    "images = x_val[idx,:]\n",
    "images = images[:,0]\n",
    "\n",
    "values = y_val[idx]\n",
    "\n",
    "predicted = predicted.cpu()\n",
    "\n",
    "predictions = predicted.data.numpy()\n",
    "predictions = predictions[idx]\n",
    "\n",
    "display(rows=3, columns=3, images=images, values=values, predictions=predictions)"
   ]
  },
  {
   "cell_type": "markdown",
   "metadata": {
    "id": "-MNg2Yf5YGGZ"
   },
   "source": [
    "## 4. Model Testing\n",
    "#### Test on the test dataset"
   ]
  },
  {
   "cell_type": "code",
   "execution_count": null,
   "metadata": {
    "_uuid": "1706aa86447dacd508b2de9a941205ad1becc413",
    "execution": {
     "iopub.execute_input": "2022-03-04T21:21:14.875747Z",
     "iopub.status.busy": "2022-03-04T21:21:14.875065Z",
     "iopub.status.idle": "2022-03-04T21:21:32.599202Z",
     "shell.execute_reply": "2022-03-04T21:21:32.544664Z",
     "shell.execute_reply.started": "2022-03-04T21:21:14.875680Z"
    },
    "id": "2WUZqRafYGGZ"
   },
   "outputs": [],
   "source": [
    "torch_x_test = torch.from_numpy(x_test).type(torch.FloatTensor)\n",
    "\n",
    "torch_x_test = torch_x_test.to(device)\n",
    "\n",
    "y_test = net(torch_x_test)\n",
    "\n",
    "_, predicted = torch.max(y_test.data, 1)"
   ]
  },
  {
   "cell_type": "markdown",
   "metadata": {
    "id": "oS3DYOWEYGGa"
   },
   "source": [
    "#### Display predictions of the test dataset"
   ]
  },
  {
   "cell_type": "code",
   "execution_count": null,
   "metadata": {
    "execution": {
     "iopub.status.busy": "2022-03-04T21:21:32.545435Z",
     "iopub.status.idle": "2022-03-04T21:21:32.546093Z"
    },
    "id": "U-TpBRb8YGGa"
   },
   "outputs": [],
   "source": [
    "idx = np.random.randint(1, 1000, size=9)\n",
    "\n",
    "images = x_test[idx,:]\n",
    "images = images[:,0]\n",
    "\n",
    "predicted = predicted.cpu()\n",
    "\n",
    "predictions = predicted.data.numpy()\n",
    "predictions = predictions[idx]\n",
    "\n",
    "display(rows=3, columns=3, images=images, values=[], predictions=predictions)"
   ]
  },
  {
   "cell_type": "markdown",
   "metadata": {
    "id": "UOC8wcnjYGGa"
   },
   "source": [
    "#### Save predictions to submit"
   ]
  },
  {
   "cell_type": "code",
   "execution_count": null,
   "metadata": {
    "_uuid": "91fa645ca0665f464dde51466a64fe6d26368ba0",
    "execution": {
     "iopub.status.busy": "2022-03-04T21:21:32.546816Z",
     "iopub.status.idle": "2022-03-04T21:21:32.547342Z"
    },
    "id": "wCD_uHfAYGGa"
   },
   "outputs": [],
   "source": [
    "ImageId = np.arange(1, len(x_test)+1)\n",
    "Label = predicted.data.numpy()\n",
    "\n",
    "sbm = pd.DataFrame({'ImageId': ImageId, 'Label': Label})\n",
    "sbm.to_csv('submission.csv', index=False)\n",
    "\n",
    "sbm.head()"
   ]
  }
 ],
 "metadata": {
  "colab": {
   "collapsed_sections": [],
   "name": "Sensing and Prediction Learning Task 1.ipynb",
   "provenance": []
  },
  "kernelspec": {
   "display_name": "Python 3 (ipykernel)",
   "language": "python",
   "name": "python3"
  },
  "language_info": {
   "codemirror_mode": {
    "name": "ipython",
    "version": 3
   },
   "file_extension": ".py",
   "mimetype": "text/x-python",
   "name": "python",
   "nbconvert_exporter": "python",
   "pygments_lexer": "ipython3",
   "version": "3.6.8"
  }
 },
 "nbformat": 4,
 "nbformat_minor": 1
}
